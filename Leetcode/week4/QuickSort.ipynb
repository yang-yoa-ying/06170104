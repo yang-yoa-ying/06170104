{
 "cells": [
  {
   "cell_type": "markdown",
   "metadata": {},
   "source": [
    "本來是跟同學學來的，但因為跟助教說的抄得太像了，因此，根據助教的建議，用自己的方式重新寫了一次，將比大小的部分用函數的部分作改寫，利用快速排序法，將數字不斷比大小分兩邊的方式，達到排序的結果"
   ]
  },
  {
   "cell_type": "code",
   "execution_count": 29,
   "metadata": {},
   "outputs": [],
   "source": [
    "def QS(list):                       #排序，利用快速排列法\n",
    "    if len(list) <= 1:\n",
    "        return list \n",
    "    else:\n",
    "        more = big(list)\n",
    "        less = small(list)\n",
    "        middle = equal(list)\n",
    "    return QS(less) + middle + QS(more)\n",
    "\n",
    "def big(a):                      #找大的\n",
    "    first = a[-1]\n",
    "    left = []\n",
    "    count = 0\n",
    "    while count < len(a):\n",
    "        if a[count] > first:\n",
    "            left.append(a[count])\n",
    "        count = count + 1\n",
    "    return left\n",
    "def small(a):                  #找小的\n",
    "    first = a[-1]\n",
    "    right = []\n",
    "    count = 0\n",
    "    while count < len(a):\n",
    "        if a[count] < first:\n",
    "            right.append(a[count])\n",
    "        count = count + 1\n",
    "    return right\n",
    "def equal(a):                 #找一樣的\n",
    "    first = a[-1]\n",
    "    mid = []\n",
    "    count = 0\n",
    "    while count < len(a):\n",
    "        if a[count] == first:\n",
    "            mid.append(a[count])\n",
    "        count = count + 1\n",
    "    return mid\n"
   ]
  },
  {
   "cell_type": "code",
   "execution_count": 30,
   "metadata": {},
   "outputs": [
    {
     "data": {
      "text/plain": [
       "[9, 8, 7, 6, 5, 44]"
      ]
     },
     "execution_count": 30,
     "metadata": {},
     "output_type": "execute_result"
    }
   ],
   "source": [
    "big([9,8,7,6,5,44,3,2,4])"
   ]
  },
  {
   "cell_type": "code",
   "execution_count": 31,
   "metadata": {},
   "outputs": [
    {
     "data": {
      "text/plain": [
       "[3, 2]"
      ]
     },
     "execution_count": 31,
     "metadata": {},
     "output_type": "execute_result"
    }
   ],
   "source": [
    "small([9,8,7,6,5,44,3,2,4])"
   ]
  },
  {
   "cell_type": "code",
   "execution_count": 32,
   "metadata": {},
   "outputs": [
    {
     "data": {
      "text/plain": [
       "[4]"
      ]
     },
     "execution_count": 32,
     "metadata": {},
     "output_type": "execute_result"
    }
   ],
   "source": [
    "equal([9,8,7,6,5,44,3,2,4])"
   ]
  },
  {
   "cell_type": "code",
   "execution_count": 33,
   "metadata": {},
   "outputs": [
    {
     "data": {
      "text/plain": [
       "[2, 3, 4, 5, 6, 7, 8, 9, 44]"
      ]
     },
     "execution_count": 33,
     "metadata": {},
     "output_type": "execute_result"
    }
   ],
   "source": [
    "QS([9,8,7,6,5,44,3,2,4])"
   ]
  },
  {
   "cell_type": "markdown",
   "metadata": {},
   "source": [
    "利用QS(list)可將list排序"
   ]
  },
  {
   "cell_type": "code",
   "execution_count": null,
   "metadata": {},
   "outputs": [],
   "source": []
  }
 ],
 "metadata": {
  "kernelspec": {
   "display_name": "Python 3",
   "language": "python",
   "name": "python3"
  },
  "language_info": {
   "codemirror_mode": {
    "name": "ipython",
    "version": 3
   },
   "file_extension": ".py",
   "mimetype": "text/x-python",
   "name": "python",
   "nbconvert_exporter": "python",
   "pygments_lexer": "ipython3",
   "version": "3.7.3"
  }
 },
 "nbformat": 4,
 "nbformat_minor": 2
}
