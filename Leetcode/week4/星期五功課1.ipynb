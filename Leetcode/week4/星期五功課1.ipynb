{
 "cells": [
  {
   "cell_type": "code",
   "execution_count": 147,
   "metadata": {
    "scrolled": true
   },
   "outputs": [
    {
     "name": "stdout",
     "output_type": "stream",
     "text": [
      "第1個:0\n",
      "第2個:1\n",
      "第3個:1\n",
      "第4個:2\n",
      "第5個:3\n",
      "第6個:5\n",
      "第7個:8\n",
      "第8個:13\n",
      "第9個:21\n",
      "第10個:34\n",
      "第11個:55\n",
      "第12個:89\n",
      "第13個:144\n",
      "第14個:233\n",
      "第15個:377\n",
      "第16個:610\n",
      "第17個:987\n",
      "第18個:1597\n",
      "第19個:2584\n",
      "第20個:4181\n"
     ]
    }
   ],
   "source": [
    "#第一題方法一\n",
    "a = 0\n",
    "b = 1\n",
    "for i in range(20):\n",
    "    print(\"第\" + str(i+1) + \"個:\" + str(a))\n",
    "    c = a + b\n",
    "    a = b \n",
    "    b = c"
   ]
  },
  {
   "cell_type": "code",
   "execution_count": 148,
   "metadata": {
    "scrolled": true
   },
   "outputs": [
    {
     "name": "stdout",
     "output_type": "stream",
     "text": [
      "第1個:0\n",
      "第2個:1\n",
      "第3個:1\n",
      "第4個:2\n",
      "第5個:3\n",
      "第6個:5\n",
      "第7個:8\n",
      "第8個:13\n",
      "第9個:21\n",
      "第10個:34\n",
      "第11個:55\n",
      "第12個:89\n",
      "第13個:144\n",
      "第14個:233\n",
      "第15個:377\n",
      "第16個:610\n",
      "第17個:987\n",
      "第18個:1597\n",
      "第19個:2584\n",
      "第20個:4181\n"
     ]
    }
   ],
   "source": [
    "#第一題方法二\n",
    "def flist(n):\n",
    "    if n == 0 or n==1:\n",
    "        return n\n",
    "    else:\n",
    "        return flist(n-1) + flist(n-2)\n",
    "for n in range(20):\n",
    "    print(\"第\" + str(n+1) + \"個:\" + str(flist(n)))"
   ]
  },
  {
   "cell_type": "code",
   "execution_count": 149,
   "metadata": {},
   "outputs": [
    {
     "name": "stdout",
     "output_type": "stream",
     "text": [
      "第1個:0\n",
      "第2個:1\n",
      "第3個:1\n",
      "第4個:2\n",
      "第5個:3\n",
      "第6個:5\n",
      "第7個:8\n",
      "第8個:13\n",
      "第9個:21\n",
      "第10個:34\n",
      "第11個:55\n",
      "第12個:89\n",
      "第13個:144\n",
      "第14個:233\n",
      "第15個:377\n",
      "第16個:610\n",
      "第17個:987\n",
      "第18個:1597\n",
      "第19個:2584\n",
      "第20個:4181\n"
     ]
    }
   ],
   "source": [
    "#第一題方法三\n",
    "def fib2(n):\n",
    "    a = [0,1]\n",
    "    for i in range(2,n):\n",
    "        a.append(a[i-2]+a[i-1])\n",
    "    return a\n",
    "for n in range(20):\n",
    "    print(\"第\" + str(n+1) + \"個:\" + str(fib2(n+1)[n]))"
   ]
  },
  {
   "cell_type": "code",
   "execution_count": 150,
   "metadata": {},
   "outputs": [],
   "source": [
    "#第二題\n",
    "import matplotlib.pyplot as plt\n",
    "import numpy as np"
   ]
  },
  {
   "cell_type": "code",
   "execution_count": 151,
   "metadata": {},
   "outputs": [
    {
     "data": {
      "text/plain": [
       "Text(0, 0.5, 'y')"
      ]
     },
     "execution_count": 151,
     "metadata": {},
     "output_type": "execute_result"
    },
    {
     "data": {
      "image/png": "[encoded data removed]",
      "text/plain": [
       "<Figure size 432x288 with 1 Axes>"
      ]
     },
     "metadata": {
      "needs_background": "light"
     },
     "output_type": "display_data"
    }
   ],
   "source": [
    "x = np.linspace(-3,3)\n",
    "y = 5*x**3 - 2*x + 1\n",
    "plt.plot(x,y)\n",
    "plt.title(\"5*x**3 - 2*x + 1\")\n",
    "plt.xlabel('x')\n",
    "plt.ylabel(\"y\")"
   ]
  },
  {
   "cell_type": "code",
   "execution_count": 152,
   "metadata": {},
   "outputs": [],
   "source": [
    "#第三題\n",
    "import pandas as pd\n",
    "import matplotlib.pyplot as plt\n",
    "import numpy as np"
   ]
  },
  {
   "cell_type": "code",
   "execution_count": 153,
   "metadata": {},
   "outputs": [],
   "source": [
    "a = np.array([65,89,82,71,70,58,65,90,36,50,48,68,83,75,70])"
   ]
  },
  {
   "cell_type": "code",
   "execution_count": 154,
   "metadata": {},
   "outputs": [
    {
     "data": {
      "text/plain": [
       "Text(0, 0.5, 'count')"
      ]
     },
     "execution_count": 154,
     "metadata": {},
     "output_type": "execute_result"
    },
    {
     "data": {
      "image/png": "[encoded data removed]",
      "text/plain": [
       "<Figure size 432x288 with 1 Axes>"
      ]
     },
     "metadata": {
      "needs_background": "light"
     },
     "output_type": "display_data"
    }
   ],
   "source": [
    "plt.hist(a,bins=[30,45,60,75,90])\n",
    "plt.title(\"four kinds\")\n",
    "plt.xlabel(\"30-90\")\n",
    "plt.ylabel(\"count\")"
   ]
  },
  {
   "cell_type": "code",
   "execution_count": 155,
   "metadata": {},
   "outputs": [],
   "source": [
    "#第四題\n",
    "import pandas as pd\n",
    "import matplotlib.pyplot as plt"
   ]
  },
  {
   "cell_type": "code",
   "execution_count": 156,
   "metadata": {},
   "outputs": [],
   "source": [
    "分公司名稱 = [\"A\",\"B\",\"C\",\"D\",\"E\",\"F\",\"G\",\"H\"]\n",
    "X = [300,400,500,500,800,1000,1000,1300]\n",
    "Y = [9500,10300,11000,12000,12400,13400,14500,15300]"
   ]
  },
  {
   "cell_type": "code",
   "execution_count": 157,
   "metadata": {},
   "outputs": [
    {
     "data": {
      "text/plain": [
       "Text(0, 0.5, 'gain')"
      ]
     },
     "execution_count": 157,
     "metadata": {},
     "output_type": "execute_result"
    },
    {
     "data": {
      "image/png": "[encoded data removed]",
      "text/plain": [
       "<Figure size 432x288 with 1 Axes>"
      ]
     },
     "metadata": {
      "needs_background": "light"
     },
     "output_type": "display_data"
    }
   ],
   "source": [
    "plt.plot(X,Y,\"o\")\n",
    "for i in range(len(X)):\n",
    "    plt.text(X[i],Y[i],分公司名稱[i])\n",
    "plt.title(\"4\")\n",
    "plt.xlabel(\"pay\")\n",
    "plt.ylabel(\"gain\")"
   ]
  }
 ],
 "metadata": {
  "kernelspec": {
   "display_name": "Python 3",
   "language": "python",
   "name": "python3"
  },
  "language_info": {
   "codemirror_mode": {
    "name": "ipython",
    "version": 3
   },
   "file_extension": ".py",
   "mimetype": "text/x-python",
   "name": "python",
   "nbconvert_exporter": "python",
   "pygments_lexer": "ipython3",
   "version": "3.7.3"
  }
 },
 "nbformat": 4,
 "nbformat_minor": 2
}
