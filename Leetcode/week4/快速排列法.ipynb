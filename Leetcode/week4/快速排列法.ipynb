{
 "cells": [
  {
   "cell_type": "code",
   "execution_count": 1,
   "metadata": {},
   "outputs": [],
   "source": [
    "def quicksort(list):\n",
    "    if len(list) <= 1:\n",
    "        return list #如果輸入的list長度<=1，表示數列裡沒有數字，就不需要排列了\n",
    "    else:\n",
    "        pivot = list[-1] #基準點就設定為list的最後一個數字\n",
    "        bigger = [] #放大的數字\n",
    "        equal = [] #放跟基準點一樣的數字\n",
    "        smaller = [] #放小的數字\n",
    "        for num in list:           #將list內所有數字跑過一次                          \n",
    "            if num > pivot:\n",
    "                bigger.append(num) #比基準點大就append進去bigger\n",
    "            elif num == pivot:\n",
    "                equal.append(num) #跟基準點一樣就append進去equal\n",
    "            else:\n",
    "                smaller.append(num) #比基準點小就append進去smaller\n",
    "    return quicksort(smaller) + equal + quicksort(bigger) #smaller跟bigger繼續排列，equal不必再排列了"
   ]
  },
  {
   "cell_type": "code",
   "execution_count": 2,
   "metadata": {},
   "outputs": [
    {
     "data": {
      "text/plain": [
       "[1, 2, 5, 6, 34, 56, 99]"
      ]
     },
     "execution_count": 2,
     "metadata": {},
     "output_type": "execute_result"
    }
   ],
   "source": [
    "quicksort([1,2,5,6,99,34,56])"
   ]
  },
  {
   "cell_type": "code",
   "execution_count": null,
   "metadata": {},
   "outputs": [],
   "source": []
  },
  {
   "cell_type": "code",
   "execution_count": null,
   "metadata": {},
   "outputs": [],
   "source": []
  }
 ],
 "metadata": {
  "kernelspec": {
   "display_name": "Python 3",
   "language": "python",
   "name": "python3"
  },
  "language_info": {
   "codemirror_mode": {
    "name": "ipython",
    "version": 3
   },
   "file_extension": ".py",
   "mimetype": "text/x-python",
   "name": "python",
   "nbconvert_exporter": "python",
   "pygments_lexer": "ipython3",
   "version": "3.7.3"
  }
 },
 "nbformat": 4,
 "nbformat_minor": 2
}
